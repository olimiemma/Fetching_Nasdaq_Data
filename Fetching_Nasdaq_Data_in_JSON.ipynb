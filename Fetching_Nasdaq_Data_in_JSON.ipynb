{
  "nbformat": 4,
  "nbformat_minor": 0,
  "metadata": {
    "colab": {
      "provenance": [],
      "gpuType": "T4"
    },
    "kernelspec": {
      "name": "python3",
      "display_name": "Python 3"
    },
    "language_info": {
      "name": "python"
    },
    "accelerator": "GPU"
  },
  "cells": [
    {
      "cell_type": "code",
      "source": [
        "!pip install nasdaq_data_link pandas"
      ],
      "metadata": {
        "colab": {
          "base_uri": "https://localhost:8080/"
        },
        "id": "F9qzctIVEXo1",
        "outputId": "293a4629-203e-4d85-bc27-9b2de302f192"
      },
      "execution_count": 4,
      "outputs": [
        {
          "output_type": "stream",
          "name": "stdout",
          "text": [
            "Requirement already satisfied: nasdaq_data_link in /usr/local/lib/python3.10/dist-packages (1.0.4)\n",
            "Requirement already satisfied: pandas in /usr/local/lib/python3.10/dist-packages (2.2.2)\n",
            "Requirement already satisfied: numpy>=1.8 in /usr/local/lib/python3.10/dist-packages (from nasdaq_data_link) (1.26.4)\n",
            "Requirement already satisfied: requests>=2.7.0 in /usr/local/lib/python3.10/dist-packages (from nasdaq_data_link) (2.32.3)\n",
            "Requirement already satisfied: inflection>=0.3.1 in /usr/local/lib/python3.10/dist-packages (from nasdaq_data_link) (0.5.1)\n",
            "Requirement already satisfied: python-dateutil in /usr/local/lib/python3.10/dist-packages (from nasdaq_data_link) (2.8.2)\n",
            "Requirement already satisfied: six in /usr/local/lib/python3.10/dist-packages (from nasdaq_data_link) (1.16.0)\n",
            "Requirement already satisfied: more-itertools in /usr/local/lib/python3.10/dist-packages (from nasdaq_data_link) (10.5.0)\n",
            "Requirement already satisfied: pytz>=2020.1 in /usr/local/lib/python3.10/dist-packages (from pandas) (2024.2)\n",
            "Requirement already satisfied: tzdata>=2022.7 in /usr/local/lib/python3.10/dist-packages (from pandas) (2024.2)\n",
            "Requirement already satisfied: charset-normalizer<4,>=2 in /usr/local/lib/python3.10/dist-packages (from requests>=2.7.0->nasdaq_data_link) (3.4.0)\n",
            "Requirement already satisfied: idna<4,>=2.5 in /usr/local/lib/python3.10/dist-packages (from requests>=2.7.0->nasdaq_data_link) (3.10)\n",
            "Requirement already satisfied: urllib3<3,>=1.21.1 in /usr/local/lib/python3.10/dist-packages (from requests>=2.7.0->nasdaq_data_link) (2.2.3)\n",
            "Requirement already satisfied: certifi>=2017.4.17 in /usr/local/lib/python3.10/dist-packages (from requests>=2.7.0->nasdaq_data_link) (2024.8.30)\n"
          ]
        }
      ]
    },
    {
      "cell_type": "code",
      "source": [
        "!pip install nasdaq-data-link pandas"
      ],
      "metadata": {
        "colab": {
          "base_uri": "https://localhost:8080/"
        },
        "id": "BHvn4FcbGuU2",
        "outputId": "335be50e-cb3e-4941-ca6b-3f0966a2bb94"
      },
      "execution_count": 6,
      "outputs": [
        {
          "output_type": "stream",
          "name": "stdout",
          "text": [
            "Requirement already satisfied: nasdaq-data-link in /usr/local/lib/python3.10/dist-packages (1.0.4)\n",
            "Requirement already satisfied: pandas in /usr/local/lib/python3.10/dist-packages (2.2.2)\n",
            "Requirement already satisfied: numpy>=1.8 in /usr/local/lib/python3.10/dist-packages (from nasdaq-data-link) (1.26.4)\n",
            "Requirement already satisfied: requests>=2.7.0 in /usr/local/lib/python3.10/dist-packages (from nasdaq-data-link) (2.32.3)\n",
            "Requirement already satisfied: inflection>=0.3.1 in /usr/local/lib/python3.10/dist-packages (from nasdaq-data-link) (0.5.1)\n",
            "Requirement already satisfied: python-dateutil in /usr/local/lib/python3.10/dist-packages (from nasdaq-data-link) (2.8.2)\n",
            "Requirement already satisfied: six in /usr/local/lib/python3.10/dist-packages (from nasdaq-data-link) (1.16.0)\n",
            "Requirement already satisfied: more-itertools in /usr/local/lib/python3.10/dist-packages (from nasdaq-data-link) (10.5.0)\n",
            "Requirement already satisfied: pytz>=2020.1 in /usr/local/lib/python3.10/dist-packages (from pandas) (2024.2)\n",
            "Requirement already satisfied: tzdata>=2022.7 in /usr/local/lib/python3.10/dist-packages (from pandas) (2024.2)\n",
            "Requirement already satisfied: charset-normalizer<4,>=2 in /usr/local/lib/python3.10/dist-packages (from requests>=2.7.0->nasdaq-data-link) (3.4.0)\n",
            "Requirement already satisfied: idna<4,>=2.5 in /usr/local/lib/python3.10/dist-packages (from requests>=2.7.0->nasdaq-data-link) (3.10)\n",
            "Requirement already satisfied: urllib3<3,>=1.21.1 in /usr/local/lib/python3.10/dist-packages (from requests>=2.7.0->nasdaq-data-link) (2.2.3)\n",
            "Requirement already satisfied: certifi>=2017.4.17 in /usr/local/lib/python3.10/dist-packages (from requests>=2.7.0->nasdaq-data-link) (2024.8.30)\n"
          ]
        }
      ]
    },
    {
      "cell_type": "code",
      "source": [
        "import nasdaqdatalink  # Note: this is the correct import name\n",
        "import pandas as pd\n",
        "import json\n",
        "from datetime import datetime"
      ],
      "metadata": {
        "id": "Whua-w88GSVB"
      },
      "execution_count": 7,
      "outputs": []
    },
    {
      "cell_type": "code",
      "source": [
        "# Run this in the FIRST cell by itself\n",
        "!pip install nasdaq-data-link pandas\n",
        "\n",
        "# Then create a NEW cell and paste everything below this line\n",
        "import nasdaqdatalink\n",
        "import pandas as pd\n",
        "import json\n",
        "from datetime import datetime\n",
        "\n",
        "def fetch_nasdaq_data(api_key, dataset_code, start_date=None, end_date=None, records_to_show=20):\n",
        "    \"\"\"\n",
        "    Fetch data from Nasdaq Data Link and return as JSON\n",
        "\n",
        "    Parameters:\n",
        "    api_key (str): Your Nasdaq Data Link API key\n",
        "    dataset_code (str): Code for the dataset (e.g., 'WIKI/AAPL')\n",
        "    start_date (str): Start date in 'YYYY-MM-DD' format (optional)\n",
        "    end_date (str): End date in 'YYYY-MM-DD' format (optional)\n",
        "    records_to_show (int): Number of records to display in preview\n",
        "    \"\"\"\n",
        "\n",
        "    # Configure the API key\n",
        "    nasdaqdatalink.ApiConfig.api_key = api_key\n",
        "\n",
        "    try:\n",
        "        # Fetch the data\n",
        "        params = {\n",
        "            'returns': 'json'\n",
        "        }\n",
        "\n",
        "        if start_date:\n",
        "            params['start_date'] = start_date\n",
        "        if end_date:\n",
        "            params['end_date'] = end_date\n",
        "\n",
        "        data = nasdaqdatalink.get(dataset_code, **params)\n",
        "\n",
        "        # Convert to JSON\n",
        "        json_data = data.to_json(orient='records', date_format='iso')\n",
        "\n",
        "        # Pretty print the specified number of records\n",
        "        parsed_data = json.loads(json_data)\n",
        "        print(f\"\\nFirst {records_to_show} records of the data:\")\n",
        "        print(json.dumps(parsed_data[:records_to_show], indent=2))\n",
        "\n",
        "        return json_data\n",
        "\n",
        "    except Exception as e:\n",
        "        print(f\"Error fetching data: {str(e)}\")\n",
        "        return None\n",
        "\n",
        "# Example usage with different dataset codes\n",
        "api_key = '_yzGWdEwvH8T4yJuyvzs'  # Replace with your actual API key\n",
        "# First choose one of these active datasets:\n",
        "# dataset = 'FRED/GDP'          # US GDP\n",
        "# dataset = 'FRED/UNRATE'       # US Unemployment Rate\n",
        "dataset = 'LBMA/GOLD'         # Gold Fixing Price\n",
        "# dataset = 'OPEC/ORB'         # OPEC Oil Prices\n",
        "\n",
        "# Modify your dates (using more recent dates)\n",
        "start = '2024-01-01'\n",
        "end = '2024-02-29'\n",
        "\n",
        "# Rest of your code remains the same\n",
        "json_data = fetch_nasdaq_data(api_key, dataset, start, end, records_to_show=20)\n",
        "\n",
        "# Save to file (optional)\n",
        "if json_data:\n",
        "    with open('nasdaq_data.json', 'w') as f:\n",
        "        f.write(json_data)\n",
        "    print(\"\\nData has been saved to 'nasdaq_data.json'\")"
      ],
      "metadata": {
        "colab": {
          "base_uri": "https://localhost:8080/"
        },
        "id": "KBsr4qwBGYNc",
        "outputId": "7fe27980-033e-47c5-e0d3-3d0cc3878a8f"
      },
      "execution_count": 12,
      "outputs": [
        {
          "output_type": "stream",
          "name": "stdout",
          "text": [
            "Requirement already satisfied: nasdaq-data-link in /usr/local/lib/python3.10/dist-packages (1.0.4)\n",
            "Requirement already satisfied: pandas in /usr/local/lib/python3.10/dist-packages (2.2.2)\n",
            "Requirement already satisfied: numpy>=1.8 in /usr/local/lib/python3.10/dist-packages (from nasdaq-data-link) (1.26.4)\n",
            "Requirement already satisfied: requests>=2.7.0 in /usr/local/lib/python3.10/dist-packages (from nasdaq-data-link) (2.32.3)\n",
            "Requirement already satisfied: inflection>=0.3.1 in /usr/local/lib/python3.10/dist-packages (from nasdaq-data-link) (0.5.1)\n",
            "Requirement already satisfied: python-dateutil in /usr/local/lib/python3.10/dist-packages (from nasdaq-data-link) (2.8.2)\n",
            "Requirement already satisfied: six in /usr/local/lib/python3.10/dist-packages (from nasdaq-data-link) (1.16.0)\n",
            "Requirement already satisfied: more-itertools in /usr/local/lib/python3.10/dist-packages (from nasdaq-data-link) (10.5.0)\n",
            "Requirement already satisfied: pytz>=2020.1 in /usr/local/lib/python3.10/dist-packages (from pandas) (2024.2)\n",
            "Requirement already satisfied: tzdata>=2022.7 in /usr/local/lib/python3.10/dist-packages (from pandas) (2024.2)\n",
            "Requirement already satisfied: charset-normalizer<4,>=2 in /usr/local/lib/python3.10/dist-packages (from requests>=2.7.0->nasdaq-data-link) (3.4.0)\n",
            "Requirement already satisfied: idna<4,>=2.5 in /usr/local/lib/python3.10/dist-packages (from requests>=2.7.0->nasdaq-data-link) (3.10)\n",
            "Requirement already satisfied: urllib3<3,>=1.21.1 in /usr/local/lib/python3.10/dist-packages (from requests>=2.7.0->nasdaq-data-link) (2.2.3)\n",
            "Requirement already satisfied: certifi>=2017.4.17 in /usr/local/lib/python3.10/dist-packages (from requests>=2.7.0->nasdaq-data-link) (2024.8.30)\n",
            "Error fetching data: (Status 403) Something went wrong. Please try again. If you continue to have problems, please contact us at connect@data.nasdaq.com.\n"
          ]
        }
      ]
    }
  ]
}